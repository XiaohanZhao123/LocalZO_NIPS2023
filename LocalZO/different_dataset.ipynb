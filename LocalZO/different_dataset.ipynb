{
 "cells": [
  {
   "cell_type": "code",
   "execution_count": 1,
   "outputs": [],
   "source": [
    "import tonic\n",
    "from tonic import transforms\n"
   ],
   "metadata": {
    "collapsed": false,
    "pycharm": {
     "name": "#%%\n"
    }
   }
  },
  {
   "cell_type": "code",
   "execution_count": 4,
   "outputs": [
    {
     "ename": "TypeError",
     "evalue": "__init__() got an unexpected keyword argument 'train'",
     "output_type": "error",
     "traceback": [
      "\u001B[0;31m---------------------------------------------------------------------------\u001B[0m",
      "\u001B[0;31mTypeError\u001B[0m                                 Traceback (most recent call last)",
      "Input \u001B[0;32mIn [4]\u001B[0m, in \u001B[0;36m<cell line: 9>\u001B[0;34m()\u001B[0m\n\u001B[1;32m      2\u001B[0m sensor_size \u001B[38;5;241m=\u001B[39m tonic\u001B[38;5;241m.\u001B[39mdatasets\u001B[38;5;241m.\u001B[39mDVSGesture\u001B[38;5;241m.\u001B[39msensor_size\n\u001B[1;32m      3\u001B[0m preprocess \u001B[38;5;241m=\u001B[39m transforms\u001B[38;5;241m.\u001B[39mCompose(\n\u001B[1;32m      4\u001B[0m     [\n\u001B[1;32m      5\u001B[0m         transforms\u001B[38;5;241m.\u001B[39mDenoise(filter_time\u001B[38;5;241m=\u001B[39m\u001B[38;5;241m10000\u001B[39m),\n\u001B[1;32m      6\u001B[0m         transforms\u001B[38;5;241m.\u001B[39mToFrame(sensor_size\u001B[38;5;241m=\u001B[39msensor_size, time_window\u001B[38;5;241m=\u001B[39m\u001B[38;5;241m1000\u001B[39m),\n\u001B[1;32m      7\u001B[0m     ]\n\u001B[1;32m      8\u001B[0m )\n\u001B[0;32m----> 9\u001B[0m dvs_gesture_train \u001B[38;5;241m=\u001B[39m \u001B[43mtonic\u001B[49m\u001B[38;5;241;43m.\u001B[39;49m\u001B[43mdatasets\u001B[49m\u001B[38;5;241;43m.\u001B[39;49m\u001B[43mCIFAR10DVS\u001B[49m\u001B[43m(\u001B[49m\u001B[43msave_to\u001B[49m\u001B[38;5;241;43m=\u001B[39;49m\u001B[38;5;124;43m'\u001B[39;49m\u001B[38;5;124;43m/home/zxh/data\u001B[39;49m\u001B[38;5;124;43m'\u001B[39;49m\u001B[43m,\u001B[49m\u001B[43m \u001B[49m\u001B[43mtrain\u001B[49m\u001B[38;5;241;43m=\u001B[39;49m\u001B[38;5;28;43;01mTrue\u001B[39;49;00m\u001B[43m,\u001B[49m\u001B[43m \u001B[49m\u001B[43mtransform\u001B[49m\u001B[38;5;241;43m=\u001B[39;49m\u001B[43mpreprocess\u001B[49m\u001B[43m)\u001B[49m\n\u001B[1;32m     10\u001B[0m dvs_gesture_test \u001B[38;5;241m=\u001B[39m tonic\u001B[38;5;241m.\u001B[39mdatasets\u001B[38;5;241m.\u001B[39mCIFAR10DVS(save_to\u001B[38;5;241m=\u001B[39m\u001B[38;5;124m'\u001B[39m\u001B[38;5;124m/home/zxh/data\u001B[39m\u001B[38;5;124m'\u001B[39m, train\u001B[38;5;241m=\u001B[39m\u001B[38;5;28;01mFalse\u001B[39;00m, transform\u001B[38;5;241m=\u001B[39mpreprocess)\n",
      "\u001B[0;31mTypeError\u001B[0m: __init__() got an unexpected keyword argument 'train'"
     ]
    }
   ],
   "source": [
    "# Load data\n",
    "sensor_size = tonic.datasets.DVSGesture.sensor_size\n",
    "preprocess = transforms.Compose(\n",
    "    [\n",
    "        transforms.Denoise(filter_time=10000),\n",
    "        transforms.ToFrame(sensor_size=sensor_size, time_window=1000),\n",
    "    ]\n",
    ")\n",
    "tonic.datasets.NMNIST\n",
    "dvs_gesture_train = tonic.datasets.DVSGesture(save_to='/home/zxh/data', train=True, transform=preprocess)\n",
    "dvs_gesture_test = tonic.datasets.CIFAR10DVS(save_to='/home/zxh/data', train=False, transform=preprocess)"
   ],
   "metadata": {
    "collapsed": false,
    "pycharm": {
     "name": "#%%\n"
    }
   }
  },
  {
   "cell_type": "code",
   "execution_count": null,
   "outputs": [],
   "source": [
    "tonic.datasets."
   ],
   "metadata": {
    "collapsed": false,
    "pycharm": {
     "name": "#%%\n"
    }
   }
  }
 ],
 "metadata": {
  "kernelspec": {
   "name": "conda-env-.conda-xiaohan-py",
   "language": "python",
   "display_name": "Python [conda env:.conda-xiaohan] *"
  },
  "language_info": {
   "codemirror_mode": {
    "name": "ipython",
    "version": 2
   },
   "file_extension": ".py",
   "mimetype": "text/x-python",
   "name": "python",
   "nbconvert_exporter": "python",
   "pygments_lexer": "ipython2",
   "version": "2.7.6"
  }
 },
 "nbformat": 4,
 "nbformat_minor": 0
}